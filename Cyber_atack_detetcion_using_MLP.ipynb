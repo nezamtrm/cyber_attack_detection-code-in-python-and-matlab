{
  "nbformat": 4,
  "nbformat_minor": 0,
  "metadata": {
    "colab": {
      "provenance": []
    },
    "kernelspec": {
      "name": "python3",
      "display_name": "Python 3"
    },
    "language_info": {
      "name": "python"
    }
  },
  "cells": [
    {
      "cell_type": "markdown",
      "source": [
        "# **Extracting information from the Zip File**"
      ],
      "metadata": {
        "id": "OscxGfUb2IpI"
      }
    },
    {
      "cell_type": "code",
      "execution_count": 1,
      "metadata": {
        "id": "1lCSiinkZqqb"
      },
      "outputs": [],
      "source": [
        "import zipfile\n",
        "import numpy as np\n",
        "zip_ref = zipfile.ZipFile(\"/content/CSTR data files.zip\", 'r')\n",
        "zip_ref.extractall(\"/content/sample_data\")\n",
        "zip_ref.close()"
      ]
    },
    {
      "cell_type": "markdown",
      "source": [
        "# **Reading the information using the scipy **"
      ],
      "metadata": {
        "id": "rCXoXZeM2SVi"
      }
    },
    {
      "cell_type": "code",
      "source": [
        "import scipy.io\n",
        "Tr_attack = scipy.io.loadmat('/content/sample_data/CSTR_train_attack.mat') \n",
        "Tr_noise = scipy.io.loadmat('/content/sample_data/CSTR_train_noise.mat')\n",
        "Tr_normal = scipy.io.loadmat('/content/sample_data/CSTR_train_normal.mat')\n",
        "Te_attack = scipy.io.loadmat('/content/sample_data/CSTR_test_attack.mat') \n",
        "Te_noise = scipy.io.loadmat('/content/sample_data/CSTR_test_noise.mat')\n",
        "Te_normal = scipy.io.loadmat('/content/sample_data/CSTR_test_normal.mat')"
      ],
      "metadata": {
        "id": "2BTmKBwca4k7"
      },
      "execution_count": 2,
      "outputs": []
    },
    {
      "cell_type": "code",
      "source": [
        "Train_attack = Tr_attack['CSTR_train_attack']\n",
        "Train_noise = Tr_noise['CSTR_train_noise']\n",
        "Train_Normal = Tr_normal['CSTR_train_normal']\n",
        "Test_attack = Te_attack['CSTR_test_attack']\n",
        "Test_noise = Te_noise['CSTR_test_noise']\n",
        "Test_Normal = Te_normal['CSTR_test_normal']"
      ],
      "metadata": {
        "id": "5gAfyZyvbXcj"
      },
      "execution_count": 3,
      "outputs": []
    },
    {
      "cell_type": "markdown",
      "source": [
        "# **Checking the shape of extratced training and testing**"
      ],
      "metadata": {
        "id": "CLRyptqS2jOa"
      }
    },
    {
      "cell_type": "code",
      "source": [
        "print(\"The size of the training dataset for Attack\",Train_attack.shape)\n",
        "print(\"The size of the training dataset for Noise\",Train_noise.shape)\n",
        "print(\"The size of the training dataset for Normal\",Train_Normal.shape)\n",
        "print(\"The size of the testing dataset for Attack\",Test_attack.shape)\n",
        "print(\"The size of the testing dataset for Noise\",Test_noise.shape)\n",
        "print(\"The size of the testing dataset for Normal\",Test_Normal.shape)"
      ],
      "metadata": {
        "colab": {
          "base_uri": "https://localhost:8080/"
        },
        "id": "yF019b5obiki",
        "outputId": "74b1f0d6-b300-4c1f-f551-1bf220dcdbfc"
      },
      "execution_count": 4,
      "outputs": [
        {
          "output_type": "stream",
          "name": "stdout",
          "text": [
            "The size of the training dataset for Attack (694, 201)\n",
            "The size of the training dataset for Noise (694, 201)\n",
            "The size of the training dataset for Normal (694, 201)\n",
            "The size of the testing dataset for Attack (15, 201)\n",
            "The size of the testing dataset for Noise (15, 201)\n",
            "The size of the testing dataset for Normal (15, 201)\n"
          ]
        }
      ]
    },
    {
      "cell_type": "markdown",
      "source": [
        "# **Combining Training information**"
      ],
      "metadata": {
        "id": "nKRpT6h02qhZ"
      }
    },
    {
      "cell_type": "code",
      "source": [
        "Combined_training = []\n",
        "for x in Train_attack[:,:-1]:\n",
        "  Combined_training.append(x)\n",
        "for x in Train_noise[:,:-1]:\n",
        "  Combined_training.append(x)\n",
        "for x in Train_Normal[:,:-1]:\n",
        "  Combined_training.append(x)  "
      ],
      "metadata": {
        "id": "0R06bCmPoaiN"
      },
      "execution_count": 5,
      "outputs": []
    },
    {
      "cell_type": "code",
      "source": [
        "Combined_training =np.array(Combined_training)\n",
        "print(\"The combined training set\",Combined_training.shape)"
      ],
      "metadata": {
        "colab": {
          "base_uri": "https://localhost:8080/"
        },
        "id": "83rdZCv1pazs",
        "outputId": "522b5d57-9ea5-4eb9-e5cf-7ee11a255013"
      },
      "execution_count": 6,
      "outputs": [
        {
          "output_type": "stream",
          "name": "stdout",
          "text": [
            "The combined training set (2082, 200)\n"
          ]
        }
      ]
    },
    {
      "cell_type": "code",
      "source": [
        "Training_target = []\n",
        "for x in Train_attack[:,-1]:\n",
        "  Training_target.append(x)\n",
        "for x in Train_noise[:,-1]:\n",
        "  Training_target.append(x)\n",
        "for x in Train_Normal[:,-1]:\n",
        "  Training_target.append(x)  "
      ],
      "metadata": {
        "id": "Qgc0OAaFpA71"
      },
      "execution_count": 7,
      "outputs": []
    },
    {
      "cell_type": "code",
      "source": [
        "Training_target = np.array(Training_target)\n",
        "print(\"The combined target training set\",Training_target.shape)"
      ],
      "metadata": {
        "colab": {
          "base_uri": "https://localhost:8080/"
        },
        "id": "35vUwy7yp2wV",
        "outputId": "6d98dea8-6d4d-43a1-b99a-f8acd80620f9"
      },
      "execution_count": 8,
      "outputs": [
        {
          "output_type": "stream",
          "name": "stdout",
          "text": [
            "The combined target training set (2082,)\n"
          ]
        }
      ]
    },
    {
      "cell_type": "markdown",
      "source": [
        "# **Combining Testing information**"
      ],
      "metadata": {
        "id": "4fAafQmU2xou"
      }
    },
    {
      "cell_type": "code",
      "source": [
        "Combined_testing = []\n",
        "for x in Test_attack[:,:-1]:\n",
        "  Combined_testing.append(x)\n",
        "for x in Test_noise[:,:-1]:\n",
        "  Combined_testing.append(x)\n",
        "for x in Test_Normal[:,:-1]:\n",
        "  Combined_testing.append(x) "
      ],
      "metadata": {
        "id": "tDZmYF0wqPC8"
      },
      "execution_count": 9,
      "outputs": []
    },
    {
      "cell_type": "code",
      "source": [
        "Combined_testing = np.array(Combined_testing)\n",
        "print(\"The combined target testing set\",Combined_testing.shape)"
      ],
      "metadata": {
        "colab": {
          "base_uri": "https://localhost:8080/"
        },
        "id": "cEAQ4QQXrByr",
        "outputId": "cf2af2c0-dc5a-4d86-e941-8ff91b831a75"
      },
      "execution_count": 10,
      "outputs": [
        {
          "output_type": "stream",
          "name": "stdout",
          "text": [
            "The combined target testing set (45, 200)\n"
          ]
        }
      ]
    },
    {
      "cell_type": "code",
      "source": [
        "Target_testing = []\n",
        "for x in Test_attack[:,-1]:\n",
        "  Target_testing.append(x)\n",
        "for x in Test_noise[:,-1]:\n",
        "  Target_testing.append(x)\n",
        "for x in Test_Normal[:,-1]:\n",
        "  Target_testing.append(x) "
      ],
      "metadata": {
        "id": "lqtjFM58qqPV"
      },
      "execution_count": 11,
      "outputs": []
    },
    {
      "cell_type": "code",
      "source": [
        "Target_testing = np.array(Target_testing)\n",
        "print(\"The combined target testing set\",Target_testing.shape)"
      ],
      "metadata": {
        "colab": {
          "base_uri": "https://localhost:8080/"
        },
        "id": "4dwCkQaHq4Rs",
        "outputId": "654a6d13-5b9a-4963-ff51-122bcadc7b30"
      },
      "execution_count": 12,
      "outputs": [
        {
          "output_type": "stream",
          "name": "stdout",
          "text": [
            "The combined target testing set (45,)\n"
          ]
        }
      ]
    },
    {
      "cell_type": "markdown",
      "source": [
        "# **Creating an One Hot Encoder for the Traget**"
      ],
      "metadata": {
        "id": "fm-WBfAS23yI"
      }
    },
    {
      "cell_type": "code",
      "source": [
        "from tensorflow.keras.utils import to_categorical\n",
        "from sklearn.preprocessing import OneHotEncoder\n",
        "enc = OneHotEncoder(sparse=False)\n",
        "target_total_train = enc.fit_transform(Training_target.reshape(-1,1))\n",
        "target_total_train = np.array(target_total_train)\n",
        "target_total_test = enc.fit_transform(Target_testing.reshape(-1,1))\n",
        "target_total_test = np.array(target_total_test)\n",
        "print(\"Total Testing size: \",target_total_test.shape)\n",
        "print(\"Total Training size: \",target_total_train.shape)"
      ],
      "metadata": {
        "colab": {
          "base_uri": "https://localhost:8080/"
        },
        "id": "Xvdfr2WLrLiz",
        "outputId": "e7030ed9-b337-4865-b21e-6a56213da4ff"
      },
      "execution_count": 13,
      "outputs": [
        {
          "output_type": "stream",
          "name": "stdout",
          "text": [
            "Total Testing size:  (45, 3)\n",
            "Total Training size:  (2082, 3)\n"
          ]
        },
        {
          "output_type": "stream",
          "name": "stderr",
          "text": [
            "/usr/local/lib/python3.9/dist-packages/sklearn/preprocessing/_encoders.py:868: FutureWarning: `sparse` was renamed to `sparse_output` in version 1.2 and will be removed in 1.4. `sparse_output` is ignored unless you leave `sparse` to its default value.\n",
            "  warnings.warn(\n",
            "/usr/local/lib/python3.9/dist-packages/sklearn/preprocessing/_encoders.py:868: FutureWarning: `sparse` was renamed to `sparse_output` in version 1.2 and will be removed in 1.4. `sparse_output` is ignored unless you leave `sparse` to its default value.\n",
            "  warnings.warn(\n"
          ]
        }
      ]
    },
    {
      "cell_type": "markdown",
      "source": [
        "# **Defining The model**"
      ],
      "metadata": {
        "id": "YkOGK1tY3FD5"
      }
    },
    {
      "cell_type": "code",
      "source": [
        "from tensorflow import keras\n",
        "model = keras.models.Sequential()\n",
        "model.add(keras.layers.Flatten(input_shape=[200,]))\n",
        "model.add(keras.layers.Dense(100, activation=\"relu\"))\n",
        "model.add(keras.layers.Dense(50, activation=\"relu\"))\n",
        "model.add(keras.layers.Dense(25, activation=\"relu\"))\n",
        "model.add(keras.layers.Dense(3, activation=\"softmax\"))"
      ],
      "metadata": {
        "id": "fw3L9jYGs0DW"
      },
      "execution_count": 14,
      "outputs": []
    },
    {
      "cell_type": "code",
      "source": [
        "model.summary()"
      ],
      "metadata": {
        "colab": {
          "base_uri": "https://localhost:8080/"
        },
        "id": "5x-akT_-xDGR",
        "outputId": "d96826b0-007f-4e18-b600-d0bafa36a61f"
      },
      "execution_count": 15,
      "outputs": [
        {
          "output_type": "stream",
          "name": "stdout",
          "text": [
            "Model: \"sequential\"\n",
            "_________________________________________________________________\n",
            " Layer (type)                Output Shape              Param #   \n",
            "=================================================================\n",
            " flatten (Flatten)           (None, 200)               0         \n",
            "                                                                 \n",
            " dense (Dense)               (None, 100)               20100     \n",
            "                                                                 \n",
            " dense_1 (Dense)             (None, 50)                5050      \n",
            "                                                                 \n",
            " dense_2 (Dense)             (None, 25)                1275      \n",
            "                                                                 \n",
            " dense_3 (Dense)             (None, 3)                 78        \n",
            "                                                                 \n",
            "=================================================================\n",
            "Total params: 26,503\n",
            "Trainable params: 26,503\n",
            "Non-trainable params: 0\n",
            "_________________________________________________________________\n"
          ]
        }
      ]
    },
    {
      "cell_type": "markdown",
      "source": [
        "# **Training model**"
      ],
      "metadata": {
        "id": "fY2635EW3KKe"
      }
    },
    {
      "cell_type": "code",
      "source": [
        "from keras import losses\n",
        "#optimizer = keras.optimizers.RMSprop(lr=0.001, rho=0.9)\n",
        "model.compile(loss=\"categorical_crossentropy\",\n",
        "optimizer=keras.optimizers.Adam(learning_rate=0.00001, beta_1=0.9, beta_2=0.999, amsgrad=True),\n",
        "metrics=[\"accuracy\"])\n",
        "hist = model.fit(Combined_training, target_total_train,epochs=300, steps_per_epoch=2,validation_steps=2,validation_data = (Combined_testing,target_total_test))"
      ],
      "metadata": {
        "colab": {
          "base_uri": "https://localhost:8080/"
        },
        "id": "l7JOV4yVxyOw",
        "outputId": "23523f97-08ad-4765-db97-a85ed281bf28"
      },
      "execution_count": 16,
      "outputs": [
        {
          "output_type": "stream",
          "name": "stdout",
          "text": [
            "Epoch 1/300\n",
            "2/2 [==============================] - 1s 269ms/step - loss: 16.0589 - accuracy: 0.5476 - val_loss: 25.3782 - val_accuracy: 0.5556\n",
            "Epoch 2/300\n",
            "2/2 [==============================] - 0s 57ms/step - loss: 15.8826 - accuracy: 0.5476 - val_loss: 24.9760 - val_accuracy: 0.5778\n",
            "Epoch 3/300\n",
            "2/2 [==============================] - 0s 42ms/step - loss: 15.7121 - accuracy: 0.5480 - val_loss: 24.5795 - val_accuracy: 0.5778\n",
            "Epoch 4/300\n",
            "2/2 [==============================] - 0s 39ms/step - loss: 15.5406 - accuracy: 0.5480 - val_loss: 24.1847 - val_accuracy: 0.5778\n",
            "Epoch 5/300\n",
            "2/2 [==============================] - 0s 41ms/step - loss: 15.3670 - accuracy: 0.5480 - val_loss: 23.7936 - val_accuracy: 0.5778\n",
            "Epoch 6/300\n",
            "2/2 [==============================] - 0s 63ms/step - loss: 15.2012 - accuracy: 0.5485 - val_loss: 23.3996 - val_accuracy: 0.5778\n",
            "Epoch 7/300\n",
            "2/2 [==============================] - 0s 169ms/step - loss: 15.0258 - accuracy: 0.5490 - val_loss: 23.0069 - val_accuracy: 0.5778\n",
            "Epoch 8/300\n",
            "2/2 [==============================] - 0s 98ms/step - loss: 14.8572 - accuracy: 0.5495 - val_loss: 22.6105 - val_accuracy: 0.5778\n",
            "Epoch 9/300\n",
            "2/2 [==============================] - 0s 62ms/step - loss: 14.6840 - accuracy: 0.5495 - val_loss: 22.2153 - val_accuracy: 0.5778\n",
            "Epoch 10/300\n",
            "2/2 [==============================] - 0s 73ms/step - loss: 14.5188 - accuracy: 0.5495 - val_loss: 21.8200 - val_accuracy: 0.5778\n",
            "Epoch 11/300\n",
            "2/2 [==============================] - 0s 98ms/step - loss: 14.3465 - accuracy: 0.5495 - val_loss: 21.4257 - val_accuracy: 0.5778\n",
            "Epoch 12/300\n",
            "2/2 [==============================] - 0s 128ms/step - loss: 14.1756 - accuracy: 0.5500 - val_loss: 21.0328 - val_accuracy: 0.5778\n",
            "Epoch 13/300\n",
            "2/2 [==============================] - 0s 79ms/step - loss: 14.0032 - accuracy: 0.5500 - val_loss: 20.6391 - val_accuracy: 0.5778\n",
            "Epoch 14/300\n",
            "2/2 [==============================] - 0s 70ms/step - loss: 13.8362 - accuracy: 0.5504 - val_loss: 20.2495 - val_accuracy: 0.5778\n",
            "Epoch 15/300\n",
            "2/2 [==============================] - 0s 77ms/step - loss: 13.6701 - accuracy: 0.5504 - val_loss: 19.8611 - val_accuracy: 0.5778\n",
            "Epoch 16/300\n",
            "2/2 [==============================] - 0s 78ms/step - loss: 13.4977 - accuracy: 0.5504 - val_loss: 19.4740 - val_accuracy: 0.5778\n",
            "Epoch 17/300\n",
            "2/2 [==============================] - 0s 76ms/step - loss: 13.3238 - accuracy: 0.5504 - val_loss: 19.0895 - val_accuracy: 0.5778\n",
            "Epoch 18/300\n",
            "2/2 [==============================] - 0s 78ms/step - loss: 13.1580 - accuracy: 0.5504 - val_loss: 18.7029 - val_accuracy: 0.5778\n",
            "Epoch 19/300\n",
            "2/2 [==============================] - 0s 105ms/step - loss: 12.9874 - accuracy: 0.5509 - val_loss: 18.3161 - val_accuracy: 0.5778\n",
            "Epoch 20/300\n",
            "2/2 [==============================] - 0s 74ms/step - loss: 12.8220 - accuracy: 0.5509 - val_loss: 17.9285 - val_accuracy: 0.5778\n",
            "Epoch 21/300\n",
            "2/2 [==============================] - 0s 97ms/step - loss: 12.6527 - accuracy: 0.5509 - val_loss: 17.5393 - val_accuracy: 0.5778\n",
            "Epoch 22/300\n",
            "2/2 [==============================] - 0s 87ms/step - loss: 12.4831 - accuracy: 0.5509 - val_loss: 17.1528 - val_accuracy: 0.5778\n",
            "Epoch 23/300\n",
            "2/2 [==============================] - 0s 83ms/step - loss: 12.3169 - accuracy: 0.5509 - val_loss: 16.7641 - val_accuracy: 0.5778\n",
            "Epoch 24/300\n",
            "2/2 [==============================] - 0s 67ms/step - loss: 12.1468 - accuracy: 0.5514 - val_loss: 16.3778 - val_accuracy: 0.5778\n",
            "Epoch 25/300\n",
            "2/2 [==============================] - 0s 68ms/step - loss: 11.9822 - accuracy: 0.5519 - val_loss: 15.9929 - val_accuracy: 0.5778\n",
            "Epoch 26/300\n",
            "2/2 [==============================] - 0s 123ms/step - loss: 11.8140 - accuracy: 0.5519 - val_loss: 15.6092 - val_accuracy: 0.5778\n",
            "Epoch 27/300\n",
            "2/2 [==============================] - 0s 82ms/step - loss: 11.6489 - accuracy: 0.5524 - val_loss: 15.2300 - val_accuracy: 0.5778\n",
            "Epoch 28/300\n",
            "2/2 [==============================] - 0s 92ms/step - loss: 11.4832 - accuracy: 0.5524 - val_loss: 14.8491 - val_accuracy: 0.5778\n",
            "Epoch 29/300\n",
            "2/2 [==============================] - 0s 69ms/step - loss: 11.3182 - accuracy: 0.5533 - val_loss: 14.4622 - val_accuracy: 0.5778\n",
            "Epoch 30/300\n",
            "2/2 [==============================] - 0s 84ms/step - loss: 11.1571 - accuracy: 0.5538 - val_loss: 14.0758 - val_accuracy: 0.5778\n",
            "Epoch 31/300\n",
            "2/2 [==============================] - 0s 94ms/step - loss: 10.9929 - accuracy: 0.5543 - val_loss: 13.6904 - val_accuracy: 0.5778\n",
            "Epoch 32/300\n",
            "2/2 [==============================] - 0s 123ms/step - loss: 10.8335 - accuracy: 0.5543 - val_loss: 13.3040 - val_accuracy: 0.5778\n",
            "Epoch 33/300\n",
            "2/2 [==============================] - 0s 80ms/step - loss: 10.6712 - accuracy: 0.5548 - val_loss: 12.9189 - val_accuracy: 0.5778\n",
            "Epoch 34/300\n",
            "2/2 [==============================] - 0s 85ms/step - loss: 10.5108 - accuracy: 0.5557 - val_loss: 12.5337 - val_accuracy: 0.5778\n",
            "Epoch 35/300\n",
            "2/2 [==============================] - 0s 67ms/step - loss: 10.3543 - accuracy: 0.5567 - val_loss: 12.1513 - val_accuracy: 0.5778\n",
            "Epoch 36/300\n",
            "2/2 [==============================] - 0s 82ms/step - loss: 10.2014 - accuracy: 0.5576 - val_loss: 11.7692 - val_accuracy: 0.5778\n",
            "Epoch 37/300\n",
            "2/2 [==============================] - 0s 66ms/step - loss: 10.0399 - accuracy: 0.5586 - val_loss: 11.3903 - val_accuracy: 0.5778\n",
            "Epoch 38/300\n",
            "2/2 [==============================] - 0s 73ms/step - loss: 9.8830 - accuracy: 0.5605 - val_loss: 11.0156 - val_accuracy: 0.5778\n",
            "Epoch 39/300\n",
            "2/2 [==============================] - 0s 59ms/step - loss: 9.7344 - accuracy: 0.5620 - val_loss: 10.6402 - val_accuracy: 0.5778\n",
            "Epoch 40/300\n",
            "2/2 [==============================] - 0s 104ms/step - loss: 9.5836 - accuracy: 0.5634 - val_loss: 10.2618 - val_accuracy: 0.5778\n",
            "Epoch 41/300\n",
            "2/2 [==============================] - 0s 87ms/step - loss: 9.4367 - accuracy: 0.5648 - val_loss: 9.8782 - val_accuracy: 0.6000\n",
            "Epoch 42/300\n",
            "2/2 [==============================] - 0s 155ms/step - loss: 9.2908 - accuracy: 0.5668 - val_loss: 9.4974 - val_accuracy: 0.6000\n",
            "Epoch 43/300\n",
            "2/2 [==============================] - 0s 109ms/step - loss: 9.1488 - accuracy: 0.5687 - val_loss: 9.1222 - val_accuracy: 0.6000\n",
            "Epoch 44/300\n",
            "2/2 [==============================] - 0s 184ms/step - loss: 9.0114 - accuracy: 0.5711 - val_loss: 8.7519 - val_accuracy: 0.6000\n",
            "Epoch 45/300\n",
            "2/2 [==============================] - 0s 186ms/step - loss: 8.8764 - accuracy: 0.5735 - val_loss: 8.3838 - val_accuracy: 0.6000\n",
            "Epoch 46/300\n",
            "2/2 [==============================] - 0s 198ms/step - loss: 8.7417 - accuracy: 0.5759 - val_loss: 8.0170 - val_accuracy: 0.6000\n",
            "Epoch 47/300\n",
            "2/2 [==============================] - 0s 179ms/step - loss: 8.6064 - accuracy: 0.5778 - val_loss: 7.6482 - val_accuracy: 0.6000\n",
            "Epoch 48/300\n",
            "2/2 [==============================] - 0s 194ms/step - loss: 8.4778 - accuracy: 0.5788 - val_loss: 7.2791 - val_accuracy: 0.6000\n",
            "Epoch 49/300\n",
            "2/2 [==============================] - 0s 240ms/step - loss: 8.3533 - accuracy: 0.5817 - val_loss: 6.9114 - val_accuracy: 0.6000\n",
            "Epoch 50/300\n",
            "2/2 [==============================] - 0s 190ms/step - loss: 8.2291 - accuracy: 0.5855 - val_loss: 6.5509 - val_accuracy: 0.6000\n",
            "Epoch 51/300\n",
            "2/2 [==============================] - 0s 175ms/step - loss: 8.1074 - accuracy: 0.5879 - val_loss: 6.1992 - val_accuracy: 0.6000\n",
            "Epoch 52/300\n",
            "2/2 [==============================] - 0s 198ms/step - loss: 7.9943 - accuracy: 0.5889 - val_loss: 5.8527 - val_accuracy: 0.6000\n",
            "Epoch 53/300\n",
            "2/2 [==============================] - 0s 171ms/step - loss: 7.8791 - accuracy: 0.5922 - val_loss: 5.5187 - val_accuracy: 0.6000\n",
            "Epoch 54/300\n",
            "2/2 [==============================] - 0s 183ms/step - loss: 7.7664 - accuracy: 0.5937 - val_loss: 5.1999 - val_accuracy: 0.6444\n",
            "Epoch 55/300\n",
            "2/2 [==============================] - 0s 140ms/step - loss: 7.6588 - accuracy: 0.5970 - val_loss: 4.8927 - val_accuracy: 0.6444\n",
            "Epoch 56/300\n",
            "2/2 [==============================] - 0s 160ms/step - loss: 7.5546 - accuracy: 0.5985 - val_loss: 4.5991 - val_accuracy: 0.6444\n",
            "Epoch 57/300\n",
            "2/2 [==============================] - 0s 133ms/step - loss: 7.4491 - accuracy: 0.5999 - val_loss: 4.3244 - val_accuracy: 0.6667\n",
            "Epoch 58/300\n",
            "2/2 [==============================] - 0s 151ms/step - loss: 7.3516 - accuracy: 0.6018 - val_loss: 4.0654 - val_accuracy: 0.6667\n",
            "Epoch 59/300\n",
            "2/2 [==============================] - 0s 162ms/step - loss: 7.2520 - accuracy: 0.6047 - val_loss: 3.8224 - val_accuracy: 0.6889\n",
            "Epoch 60/300\n",
            "2/2 [==============================] - 0s 142ms/step - loss: 7.1594 - accuracy: 0.6090 - val_loss: 3.5902 - val_accuracy: 0.6889\n",
            "Epoch 61/300\n",
            "2/2 [==============================] - 0s 180ms/step - loss: 7.0670 - accuracy: 0.6105 - val_loss: 3.3685 - val_accuracy: 0.6889\n",
            "Epoch 62/300\n",
            "2/2 [==============================] - 0s 243ms/step - loss: 6.9779 - accuracy: 0.6119 - val_loss: 3.1612 - val_accuracy: 0.6889\n",
            "Epoch 63/300\n",
            "2/2 [==============================] - 0s 157ms/step - loss: 6.8916 - accuracy: 0.6134 - val_loss: 2.9792 - val_accuracy: 0.7111\n",
            "Epoch 64/300\n",
            "2/2 [==============================] - 0s 123ms/step - loss: 6.8106 - accuracy: 0.6167 - val_loss: 2.8373 - val_accuracy: 0.7111\n",
            "Epoch 65/300\n",
            "2/2 [==============================] - 0s 201ms/step - loss: 6.7315 - accuracy: 0.6162 - val_loss: 2.7179 - val_accuracy: 0.7111\n",
            "Epoch 66/300\n",
            "2/2 [==============================] - 0s 102ms/step - loss: 6.6581 - accuracy: 0.6191 - val_loss: 2.5705 - val_accuracy: 0.7333\n",
            "Epoch 67/300\n",
            "2/2 [==============================] - 0s 161ms/step - loss: 6.5826 - accuracy: 0.6206 - val_loss: 2.3960 - val_accuracy: 0.7333\n",
            "Epoch 68/300\n",
            "2/2 [==============================] - 0s 178ms/step - loss: 6.5066 - accuracy: 0.6220 - val_loss: 2.2252 - val_accuracy: 0.7556\n",
            "Epoch 69/300\n",
            "2/2 [==============================] - 0s 235ms/step - loss: 6.4366 - accuracy: 0.6244 - val_loss: 2.0716 - val_accuracy: 0.7556\n",
            "Epoch 70/300\n",
            "2/2 [==============================] - 0s 79ms/step - loss: 6.3682 - accuracy: 0.6273 - val_loss: 1.9331 - val_accuracy: 0.7556\n",
            "Epoch 71/300\n",
            "2/2 [==============================] - 0s 89ms/step - loss: 6.3016 - accuracy: 0.6297 - val_loss: 1.8046 - val_accuracy: 0.7556\n",
            "Epoch 72/300\n",
            "2/2 [==============================] - 0s 126ms/step - loss: 6.2360 - accuracy: 0.6302 - val_loss: 1.6881 - val_accuracy: 0.7556\n",
            "Epoch 73/300\n",
            "2/2 [==============================] - 0s 146ms/step - loss: 6.1718 - accuracy: 0.6302 - val_loss: 1.5826 - val_accuracy: 0.7778\n",
            "Epoch 74/300\n",
            "2/2 [==============================] - 0s 114ms/step - loss: 6.1086 - accuracy: 0.6302 - val_loss: 1.4934 - val_accuracy: 0.7778\n",
            "Epoch 75/300\n",
            "2/2 [==============================] - 0s 214ms/step - loss: 6.0490 - accuracy: 0.6292 - val_loss: 1.4155 - val_accuracy: 0.8000\n",
            "Epoch 76/300\n",
            "2/2 [==============================] - 0s 162ms/step - loss: 5.9885 - accuracy: 0.6297 - val_loss: 1.3474 - val_accuracy: 0.8000\n",
            "Epoch 77/300\n",
            "2/2 [==============================] - 0s 181ms/step - loss: 5.9297 - accuracy: 0.6292 - val_loss: 1.2885 - val_accuracy: 0.8222\n",
            "Epoch 78/300\n",
            "2/2 [==============================] - 0s 134ms/step - loss: 5.8733 - accuracy: 0.6302 - val_loss: 1.2276 - val_accuracy: 0.8222\n",
            "Epoch 79/300\n",
            "2/2 [==============================] - 0s 92ms/step - loss: 5.8172 - accuracy: 0.6316 - val_loss: 1.1648 - val_accuracy: 0.8222\n",
            "Epoch 80/300\n",
            "2/2 [==============================] - 0s 157ms/step - loss: 5.7613 - accuracy: 0.6316 - val_loss: 1.0967 - val_accuracy: 0.8222\n",
            "Epoch 81/300\n",
            "2/2 [==============================] - 0s 123ms/step - loss: 5.7065 - accuracy: 0.6321 - val_loss: 1.0317 - val_accuracy: 0.8222\n",
            "Epoch 82/300\n",
            "2/2 [==============================] - 0s 127ms/step - loss: 5.6514 - accuracy: 0.6330 - val_loss: 0.9678 - val_accuracy: 0.8444\n",
            "Epoch 83/300\n",
            "2/2 [==============================] - 0s 123ms/step - loss: 5.5979 - accuracy: 0.6340 - val_loss: 0.9135 - val_accuracy: 0.8444\n",
            "Epoch 84/300\n",
            "2/2 [==============================] - 0s 140ms/step - loss: 5.5443 - accuracy: 0.6340 - val_loss: 0.8616 - val_accuracy: 0.8444\n",
            "Epoch 85/300\n",
            "2/2 [==============================] - 0s 120ms/step - loss: 5.4922 - accuracy: 0.6354 - val_loss: 0.8142 - val_accuracy: 0.8444\n",
            "Epoch 86/300\n",
            "2/2 [==============================] - 0s 119ms/step - loss: 5.4391 - accuracy: 0.6350 - val_loss: 0.7682 - val_accuracy: 0.8444\n",
            "Epoch 87/300\n",
            "2/2 [==============================] - 0s 106ms/step - loss: 5.3877 - accuracy: 0.6345 - val_loss: 0.7281 - val_accuracy: 0.8444\n",
            "Epoch 88/300\n",
            "2/2 [==============================] - 0s 79ms/step - loss: 5.3371 - accuracy: 0.6364 - val_loss: 0.6917 - val_accuracy: 0.8444\n",
            "Epoch 89/300\n",
            "2/2 [==============================] - 0s 137ms/step - loss: 5.2861 - accuracy: 0.6383 - val_loss: 0.6577 - val_accuracy: 0.8444\n",
            "Epoch 90/300\n",
            "2/2 [==============================] - 0s 64ms/step - loss: 5.2350 - accuracy: 0.6402 - val_loss: 0.6256 - val_accuracy: 0.8444\n",
            "Epoch 91/300\n",
            "2/2 [==============================] - 0s 94ms/step - loss: 5.1853 - accuracy: 0.6407 - val_loss: 0.5971 - val_accuracy: 0.8444\n",
            "Epoch 92/300\n",
            "2/2 [==============================] - 0s 119ms/step - loss: 5.1354 - accuracy: 0.6431 - val_loss: 0.5729 - val_accuracy: 0.8667\n",
            "Epoch 93/300\n",
            "2/2 [==============================] - 0s 113ms/step - loss: 5.0857 - accuracy: 0.6446 - val_loss: 0.5449 - val_accuracy: 0.8889\n",
            "Epoch 94/300\n",
            "2/2 [==============================] - 0s 88ms/step - loss: 5.0371 - accuracy: 0.6455 - val_loss: 0.5182 - val_accuracy: 0.8889\n",
            "Epoch 95/300\n",
            "2/2 [==============================] - 0s 95ms/step - loss: 4.9885 - accuracy: 0.6460 - val_loss: 0.4966 - val_accuracy: 0.8889\n",
            "Epoch 96/300\n",
            "2/2 [==============================] - 0s 99ms/step - loss: 4.9404 - accuracy: 0.6494 - val_loss: 0.4737 - val_accuracy: 0.8889\n",
            "Epoch 97/300\n",
            "2/2 [==============================] - 0s 93ms/step - loss: 4.8926 - accuracy: 0.6513 - val_loss: 0.4574 - val_accuracy: 0.8889\n",
            "Epoch 98/300\n",
            "2/2 [==============================] - 0s 95ms/step - loss: 4.8454 - accuracy: 0.6518 - val_loss: 0.4402 - val_accuracy: 0.8889\n",
            "Epoch 99/300\n",
            "2/2 [==============================] - 0s 78ms/step - loss: 4.7988 - accuracy: 0.6537 - val_loss: 0.4255 - val_accuracy: 0.8889\n",
            "Epoch 100/300\n",
            "2/2 [==============================] - 0s 75ms/step - loss: 4.7525 - accuracy: 0.6547 - val_loss: 0.4121 - val_accuracy: 0.9111\n",
            "Epoch 101/300\n",
            "2/2 [==============================] - 0s 91ms/step - loss: 4.7070 - accuracy: 0.6547 - val_loss: 0.4010 - val_accuracy: 0.9111\n",
            "Epoch 102/300\n",
            "2/2 [==============================] - 0s 85ms/step - loss: 4.6615 - accuracy: 0.6551 - val_loss: 0.3959 - val_accuracy: 0.9111\n",
            "Epoch 103/300\n",
            "2/2 [==============================] - 0s 80ms/step - loss: 4.6163 - accuracy: 0.6571 - val_loss: 0.3885 - val_accuracy: 0.9111\n",
            "Epoch 104/300\n",
            "2/2 [==============================] - 0s 75ms/step - loss: 4.5708 - accuracy: 0.6590 - val_loss: 0.3790 - val_accuracy: 0.9111\n",
            "Epoch 105/300\n",
            "2/2 [==============================] - 0s 86ms/step - loss: 4.5277 - accuracy: 0.6604 - val_loss: 0.3709 - val_accuracy: 0.9111\n",
            "Epoch 106/300\n",
            "2/2 [==============================] - 0s 77ms/step - loss: 4.4830 - accuracy: 0.6619 - val_loss: 0.3668 - val_accuracy: 0.9111\n",
            "Epoch 107/300\n",
            "2/2 [==============================] - 0s 125ms/step - loss: 4.4395 - accuracy: 0.6643 - val_loss: 0.3617 - val_accuracy: 0.9111\n",
            "Epoch 108/300\n",
            "2/2 [==============================] - 0s 198ms/step - loss: 4.3949 - accuracy: 0.6652 - val_loss: 0.3544 - val_accuracy: 0.9111\n",
            "Epoch 109/300\n",
            "2/2 [==============================] - 0s 155ms/step - loss: 4.3526 - accuracy: 0.6662 - val_loss: 0.3519 - val_accuracy: 0.9111\n",
            "Epoch 110/300\n",
            "2/2 [==============================] - 0s 75ms/step - loss: 4.3094 - accuracy: 0.6676 - val_loss: 0.3458 - val_accuracy: 0.9111\n",
            "Epoch 111/300\n",
            "2/2 [==============================] - 0s 79ms/step - loss: 4.2672 - accuracy: 0.6691 - val_loss: 0.3428 - val_accuracy: 0.9111\n",
            "Epoch 112/300\n",
            "2/2 [==============================] - 0s 152ms/step - loss: 4.2244 - accuracy: 0.6705 - val_loss: 0.3441 - val_accuracy: 0.9111\n",
            "Epoch 113/300\n",
            "2/2 [==============================] - 0s 99ms/step - loss: 4.1823 - accuracy: 0.6729 - val_loss: 0.3420 - val_accuracy: 0.9111\n",
            "Epoch 114/300\n",
            "2/2 [==============================] - 0s 75ms/step - loss: 4.1400 - accuracy: 0.6729 - val_loss: 0.3424 - val_accuracy: 0.9111\n",
            "Epoch 115/300\n",
            "2/2 [==============================] - 0s 97ms/step - loss: 4.0976 - accuracy: 0.6734 - val_loss: 0.3416 - val_accuracy: 0.9111\n",
            "Epoch 116/300\n",
            "2/2 [==============================] - 0s 78ms/step - loss: 4.0566 - accuracy: 0.6744 - val_loss: 0.3418 - val_accuracy: 0.9111\n",
            "Epoch 117/300\n",
            "2/2 [==============================] - 0s 126ms/step - loss: 4.0157 - accuracy: 0.6758 - val_loss: 0.3356 - val_accuracy: 0.9111\n",
            "Epoch 118/300\n",
            "2/2 [==============================] - 0s 104ms/step - loss: 3.9749 - accuracy: 0.6763 - val_loss: 0.3314 - val_accuracy: 0.9111\n",
            "Epoch 119/300\n",
            "2/2 [==============================] - 0s 72ms/step - loss: 3.9341 - accuracy: 0.6763 - val_loss: 0.3271 - val_accuracy: 0.9111\n",
            "Epoch 120/300\n",
            "2/2 [==============================] - 0s 71ms/step - loss: 3.8929 - accuracy: 0.6763 - val_loss: 0.3237 - val_accuracy: 0.9111\n",
            "Epoch 121/300\n",
            "2/2 [==============================] - 0s 99ms/step - loss: 3.8527 - accuracy: 0.6777 - val_loss: 0.3208 - val_accuracy: 0.9111\n",
            "Epoch 122/300\n",
            "2/2 [==============================] - 0s 83ms/step - loss: 3.8123 - accuracy: 0.6777 - val_loss: 0.3187 - val_accuracy: 0.9111\n",
            "Epoch 123/300\n",
            "2/2 [==============================] - 0s 124ms/step - loss: 3.7738 - accuracy: 0.6792 - val_loss: 0.3149 - val_accuracy: 0.9111\n",
            "Epoch 124/300\n",
            "2/2 [==============================] - 0s 83ms/step - loss: 3.7335 - accuracy: 0.6787 - val_loss: 0.3135 - val_accuracy: 0.9111\n",
            "Epoch 125/300\n",
            "2/2 [==============================] - 0s 153ms/step - loss: 3.6938 - accuracy: 0.6787 - val_loss: 0.3110 - val_accuracy: 0.9111\n",
            "Epoch 126/300\n",
            "2/2 [==============================] - 0s 117ms/step - loss: 3.6536 - accuracy: 0.6792 - val_loss: 0.3119 - val_accuracy: 0.9111\n",
            "Epoch 127/300\n",
            "2/2 [==============================] - 0s 89ms/step - loss: 3.6139 - accuracy: 0.6801 - val_loss: 0.3094 - val_accuracy: 0.9333\n",
            "Epoch 128/300\n",
            "2/2 [==============================] - 0s 71ms/step - loss: 3.5745 - accuracy: 0.6806 - val_loss: 0.3075 - val_accuracy: 0.9333\n",
            "Epoch 129/300\n",
            "2/2 [==============================] - 0s 85ms/step - loss: 3.5354 - accuracy: 0.6820 - val_loss: 0.3038 - val_accuracy: 0.9333\n",
            "Epoch 130/300\n",
            "2/2 [==============================] - 0s 72ms/step - loss: 3.4967 - accuracy: 0.6830 - val_loss: 0.3000 - val_accuracy: 0.9333\n",
            "Epoch 131/300\n",
            "2/2 [==============================] - 0s 74ms/step - loss: 3.4583 - accuracy: 0.6844 - val_loss: 0.2987 - val_accuracy: 0.9333\n",
            "Epoch 132/300\n",
            "2/2 [==============================] - 0s 103ms/step - loss: 3.4195 - accuracy: 0.6854 - val_loss: 0.2986 - val_accuracy: 0.9333\n",
            "Epoch 133/300\n",
            "2/2 [==============================] - 0s 82ms/step - loss: 3.3802 - accuracy: 0.6854 - val_loss: 0.2982 - val_accuracy: 0.9333\n",
            "Epoch 134/300\n",
            "2/2 [==============================] - 0s 116ms/step - loss: 3.3422 - accuracy: 0.6864 - val_loss: 0.2978 - val_accuracy: 0.9333\n",
            "Epoch 135/300\n",
            "2/2 [==============================] - 0s 155ms/step - loss: 3.3048 - accuracy: 0.6873 - val_loss: 0.2991 - val_accuracy: 0.9333\n",
            "Epoch 136/300\n",
            "2/2 [==============================] - 0s 94ms/step - loss: 3.2672 - accuracy: 0.6883 - val_loss: 0.3002 - val_accuracy: 0.9333\n",
            "Epoch 137/300\n",
            "2/2 [==============================] - 0s 79ms/step - loss: 3.2289 - accuracy: 0.6888 - val_loss: 0.3027 - val_accuracy: 0.9333\n",
            "Epoch 138/300\n",
            "2/2 [==============================] - 0s 153ms/step - loss: 3.1905 - accuracy: 0.6902 - val_loss: 0.2997 - val_accuracy: 0.9333\n",
            "Epoch 139/300\n",
            "2/2 [==============================] - 0s 96ms/step - loss: 3.1553 - accuracy: 0.6921 - val_loss: 0.3030 - val_accuracy: 0.9333\n",
            "Epoch 140/300\n",
            "2/2 [==============================] - 0s 121ms/step - loss: 3.1180 - accuracy: 0.6926 - val_loss: 0.3001 - val_accuracy: 0.9333\n",
            "Epoch 141/300\n",
            "2/2 [==============================] - 0s 74ms/step - loss: 3.0812 - accuracy: 0.6931 - val_loss: 0.2912 - val_accuracy: 0.9333\n",
            "Epoch 142/300\n",
            "2/2 [==============================] - 0s 150ms/step - loss: 3.0437 - accuracy: 0.6940 - val_loss: 0.2858 - val_accuracy: 0.9333\n",
            "Epoch 143/300\n",
            "2/2 [==============================] - 0s 140ms/step - loss: 3.0076 - accuracy: 0.6950 - val_loss: 0.2851 - val_accuracy: 0.9333\n",
            "Epoch 144/300\n",
            "2/2 [==============================] - 0s 163ms/step - loss: 2.9707 - accuracy: 0.6955 - val_loss: 0.2768 - val_accuracy: 0.9333\n",
            "Epoch 145/300\n",
            "2/2 [==============================] - 0s 214ms/step - loss: 2.9353 - accuracy: 0.6979 - val_loss: 0.2711 - val_accuracy: 0.9333\n",
            "Epoch 146/300\n",
            "2/2 [==============================] - 0s 227ms/step - loss: 2.8987 - accuracy: 0.7003 - val_loss: 0.2643 - val_accuracy: 0.9333\n",
            "Epoch 147/300\n",
            "2/2 [==============================] - 0s 168ms/step - loss: 2.8627 - accuracy: 0.7012 - val_loss: 0.2596 - val_accuracy: 0.9333\n",
            "Epoch 148/300\n",
            "2/2 [==============================] - 0s 115ms/step - loss: 2.8279 - accuracy: 0.7022 - val_loss: 0.2575 - val_accuracy: 0.9333\n",
            "Epoch 149/300\n",
            "2/2 [==============================] - 0s 157ms/step - loss: 2.7924 - accuracy: 0.7037 - val_loss: 0.2540 - val_accuracy: 0.9333\n",
            "Epoch 150/300\n",
            "2/2 [==============================] - 0s 151ms/step - loss: 2.7570 - accuracy: 0.7041 - val_loss: 0.2535 - val_accuracy: 0.9333\n",
            "Epoch 151/300\n",
            "2/2 [==============================] - 0s 156ms/step - loss: 2.7219 - accuracy: 0.7056 - val_loss: 0.2530 - val_accuracy: 0.9333\n",
            "Epoch 152/300\n",
            "2/2 [==============================] - 0s 174ms/step - loss: 2.6874 - accuracy: 0.7061 - val_loss: 0.2538 - val_accuracy: 0.9333\n",
            "Epoch 153/300\n",
            "2/2 [==============================] - 0s 257ms/step - loss: 2.6532 - accuracy: 0.7075 - val_loss: 0.2551 - val_accuracy: 0.9333\n",
            "Epoch 154/300\n",
            "2/2 [==============================] - 0s 227ms/step - loss: 2.6187 - accuracy: 0.7080 - val_loss: 0.2512 - val_accuracy: 0.9333\n",
            "Epoch 155/300\n",
            "2/2 [==============================] - 0s 184ms/step - loss: 2.5850 - accuracy: 0.7123 - val_loss: 0.2489 - val_accuracy: 0.9333\n",
            "Epoch 156/300\n",
            "2/2 [==============================] - 0s 241ms/step - loss: 2.5506 - accuracy: 0.7142 - val_loss: 0.2505 - val_accuracy: 0.9333\n",
            "Epoch 157/300\n",
            "2/2 [==============================] - 0s 92ms/step - loss: 2.5176 - accuracy: 0.7161 - val_loss: 0.2480 - val_accuracy: 0.9333\n",
            "Epoch 158/300\n",
            "2/2 [==============================] - 0s 103ms/step - loss: 2.4841 - accuracy: 0.7166 - val_loss: 0.2473 - val_accuracy: 0.9333\n",
            "Epoch 159/300\n",
            "2/2 [==============================] - 0s 120ms/step - loss: 2.4514 - accuracy: 0.7185 - val_loss: 0.2451 - val_accuracy: 0.9333\n",
            "Epoch 160/300\n",
            "2/2 [==============================] - 0s 172ms/step - loss: 2.4183 - accuracy: 0.7195 - val_loss: 0.2400 - val_accuracy: 0.9333\n",
            "Epoch 161/300\n",
            "2/2 [==============================] - 0s 148ms/step - loss: 2.3852 - accuracy: 0.7200 - val_loss: 0.2360 - val_accuracy: 0.9333\n",
            "Epoch 162/300\n",
            "2/2 [==============================] - 0s 197ms/step - loss: 2.3536 - accuracy: 0.7205 - val_loss: 0.2363 - val_accuracy: 0.9333\n",
            "Epoch 163/300\n",
            "2/2 [==============================] - 0s 186ms/step - loss: 2.3204 - accuracy: 0.7209 - val_loss: 0.2326 - val_accuracy: 0.9333\n",
            "Epoch 164/300\n",
            "2/2 [==============================] - 0s 108ms/step - loss: 2.2893 - accuracy: 0.7219 - val_loss: 0.2303 - val_accuracy: 0.9333\n",
            "Epoch 165/300\n",
            "2/2 [==============================] - 0s 177ms/step - loss: 2.2573 - accuracy: 0.7229 - val_loss: 0.2328 - val_accuracy: 0.9333\n",
            "Epoch 166/300\n",
            "2/2 [==============================] - 0s 222ms/step - loss: 2.2252 - accuracy: 0.7229 - val_loss: 0.2277 - val_accuracy: 0.9333\n",
            "Epoch 167/300\n",
            "2/2 [==============================] - 0s 115ms/step - loss: 2.1939 - accuracy: 0.7248 - val_loss: 0.2250 - val_accuracy: 0.9333\n",
            "Epoch 168/300\n",
            "2/2 [==============================] - 0s 79ms/step - loss: 2.1638 - accuracy: 0.7248 - val_loss: 0.2240 - val_accuracy: 0.9333\n",
            "Epoch 169/300\n",
            "2/2 [==============================] - 0s 78ms/step - loss: 2.1330 - accuracy: 0.7253 - val_loss: 0.2250 - val_accuracy: 0.9333\n",
            "Epoch 170/300\n",
            "2/2 [==============================] - 0s 105ms/step - loss: 2.1022 - accuracy: 0.7277 - val_loss: 0.2218 - val_accuracy: 0.9333\n",
            "Epoch 171/300\n",
            "2/2 [==============================] - 0s 106ms/step - loss: 2.0723 - accuracy: 0.7291 - val_loss: 0.2209 - val_accuracy: 0.9333\n",
            "Epoch 172/300\n",
            "2/2 [==============================] - 0s 74ms/step - loss: 2.0428 - accuracy: 0.7305 - val_loss: 0.2233 - val_accuracy: 0.9333\n",
            "Epoch 173/300\n",
            "2/2 [==============================] - 0s 245ms/step - loss: 2.0135 - accuracy: 0.7315 - val_loss: 0.2226 - val_accuracy: 0.9333\n",
            "Epoch 174/300\n",
            "2/2 [==============================] - 0s 184ms/step - loss: 1.9842 - accuracy: 0.7320 - val_loss: 0.2205 - val_accuracy: 0.9333\n",
            "Epoch 175/300\n",
            "2/2 [==============================] - 0s 73ms/step - loss: 1.9555 - accuracy: 0.7358 - val_loss: 0.2145 - val_accuracy: 0.9333\n",
            "Epoch 176/300\n",
            "2/2 [==============================] - 0s 44ms/step - loss: 1.9264 - accuracy: 0.7363 - val_loss: 0.2087 - val_accuracy: 0.9333\n",
            "Epoch 177/300\n",
            "2/2 [==============================] - 0s 58ms/step - loss: 1.8991 - accuracy: 0.7392 - val_loss: 0.2029 - val_accuracy: 0.9333\n",
            "Epoch 178/300\n",
            "2/2 [==============================] - 0s 44ms/step - loss: 1.8711 - accuracy: 0.7416 - val_loss: 0.2035 - val_accuracy: 0.9333\n",
            "Epoch 179/300\n",
            "2/2 [==============================] - 0s 43ms/step - loss: 1.8438 - accuracy: 0.7430 - val_loss: 0.2010 - val_accuracy: 0.9333\n",
            "Epoch 180/300\n",
            "2/2 [==============================] - 0s 45ms/step - loss: 1.8155 - accuracy: 0.7450 - val_loss: 0.2040 - val_accuracy: 0.9333\n",
            "Epoch 181/300\n",
            "2/2 [==============================] - 0s 60ms/step - loss: 1.7895 - accuracy: 0.7450 - val_loss: 0.2058 - val_accuracy: 0.9333\n",
            "Epoch 182/300\n",
            "2/2 [==============================] - 0s 42ms/step - loss: 1.7631 - accuracy: 0.7474 - val_loss: 0.2076 - val_accuracy: 0.9333\n",
            "Epoch 183/300\n",
            "2/2 [==============================] - 0s 58ms/step - loss: 1.7369 - accuracy: 0.7493 - val_loss: 0.2086 - val_accuracy: 0.9333\n",
            "Epoch 184/300\n",
            "2/2 [==============================] - 0s 47ms/step - loss: 1.7107 - accuracy: 0.7512 - val_loss: 0.2067 - val_accuracy: 0.9333\n",
            "Epoch 185/300\n",
            "2/2 [==============================] - 0s 59ms/step - loss: 1.6861 - accuracy: 0.7536 - val_loss: 0.2084 - val_accuracy: 0.9333\n",
            "Epoch 186/300\n",
            "2/2 [==============================] - 0s 46ms/step - loss: 1.6605 - accuracy: 0.7541 - val_loss: 0.2082 - val_accuracy: 0.9333\n",
            "Epoch 187/300\n",
            "2/2 [==============================] - 0s 59ms/step - loss: 1.6358 - accuracy: 0.7579 - val_loss: 0.2065 - val_accuracy: 0.9333\n",
            "Epoch 188/300\n",
            "2/2 [==============================] - 0s 45ms/step - loss: 1.6114 - accuracy: 0.7594 - val_loss: 0.2066 - val_accuracy: 0.9333\n",
            "Epoch 189/300\n",
            "2/2 [==============================] - 0s 58ms/step - loss: 1.5867 - accuracy: 0.7608 - val_loss: 0.2032 - val_accuracy: 0.9333\n",
            "Epoch 190/300\n",
            "2/2 [==============================] - 0s 43ms/step - loss: 1.5632 - accuracy: 0.7622 - val_loss: 0.1995 - val_accuracy: 0.9333\n",
            "Epoch 191/300\n",
            "2/2 [==============================] - 0s 59ms/step - loss: 1.5390 - accuracy: 0.7632 - val_loss: 0.1978 - val_accuracy: 0.9333\n",
            "Epoch 192/300\n",
            "2/2 [==============================] - 0s 44ms/step - loss: 1.5166 - accuracy: 0.7651 - val_loss: 0.1985 - val_accuracy: 0.9333\n",
            "Epoch 193/300\n",
            "2/2 [==============================] - 0s 63ms/step - loss: 1.4928 - accuracy: 0.7666 - val_loss: 0.2001 - val_accuracy: 0.9333\n",
            "Epoch 194/300\n",
            "2/2 [==============================] - 0s 45ms/step - loss: 1.4705 - accuracy: 0.7690 - val_loss: 0.1976 - val_accuracy: 0.9333\n",
            "Epoch 195/300\n",
            "2/2 [==============================] - 0s 43ms/step - loss: 1.4482 - accuracy: 0.7690 - val_loss: 0.1996 - val_accuracy: 0.9333\n",
            "Epoch 196/300\n",
            "2/2 [==============================] - 0s 39ms/step - loss: 1.4269 - accuracy: 0.7719 - val_loss: 0.1985 - val_accuracy: 0.9333\n",
            "Epoch 197/300\n",
            "2/2 [==============================] - 0s 43ms/step - loss: 1.4058 - accuracy: 0.7747 - val_loss: 0.1936 - val_accuracy: 0.9556\n",
            "Epoch 198/300\n",
            "2/2 [==============================] - 0s 44ms/step - loss: 1.3843 - accuracy: 0.7762 - val_loss: 0.1936 - val_accuracy: 0.9556\n",
            "Epoch 199/300\n",
            "2/2 [==============================] - 0s 51ms/step - loss: 1.3635 - accuracy: 0.7776 - val_loss: 0.1914 - val_accuracy: 0.9556\n",
            "Epoch 200/300\n",
            "2/2 [==============================] - 0s 58ms/step - loss: 1.3437 - accuracy: 0.7805 - val_loss: 0.1914 - val_accuracy: 0.9556\n",
            "Epoch 201/300\n",
            "2/2 [==============================] - 0s 43ms/step - loss: 1.3242 - accuracy: 0.7815 - val_loss: 0.1902 - val_accuracy: 0.9556\n",
            "Epoch 202/300\n",
            "2/2 [==============================] - 0s 59ms/step - loss: 1.3042 - accuracy: 0.7834 - val_loss: 0.1885 - val_accuracy: 0.9556\n",
            "Epoch 203/300\n",
            "2/2 [==============================] - 0s 61ms/step - loss: 1.2854 - accuracy: 0.7843 - val_loss: 0.1876 - val_accuracy: 0.9556\n",
            "Epoch 204/300\n",
            "2/2 [==============================] - 0s 44ms/step - loss: 1.2667 - accuracy: 0.7872 - val_loss: 0.1857 - val_accuracy: 0.9556\n",
            "Epoch 205/300\n",
            "2/2 [==============================] - 0s 44ms/step - loss: 1.2479 - accuracy: 0.7896 - val_loss: 0.1860 - val_accuracy: 0.9556\n",
            "Epoch 206/300\n",
            "2/2 [==============================] - 0s 45ms/step - loss: 1.2304 - accuracy: 0.7906 - val_loss: 0.1870 - val_accuracy: 0.9556\n",
            "Epoch 207/300\n",
            "2/2 [==============================] - 0s 47ms/step - loss: 1.2121 - accuracy: 0.7935 - val_loss: 0.1893 - val_accuracy: 0.9556\n",
            "Epoch 208/300\n",
            "2/2 [==============================] - 0s 44ms/step - loss: 1.1954 - accuracy: 0.7954 - val_loss: 0.1894 - val_accuracy: 0.9556\n",
            "Epoch 209/300\n",
            "2/2 [==============================] - 0s 59ms/step - loss: 1.1782 - accuracy: 0.7963 - val_loss: 0.1907 - val_accuracy: 0.9556\n",
            "Epoch 210/300\n",
            "2/2 [==============================] - 0s 46ms/step - loss: 1.1618 - accuracy: 0.7992 - val_loss: 0.1921 - val_accuracy: 0.9556\n",
            "Epoch 211/300\n",
            "2/2 [==============================] - 0s 63ms/step - loss: 1.1454 - accuracy: 0.7988 - val_loss: 0.1930 - val_accuracy: 0.9556\n",
            "Epoch 212/300\n",
            "2/2 [==============================] - 0s 43ms/step - loss: 1.1299 - accuracy: 0.8026 - val_loss: 0.1952 - val_accuracy: 0.9556\n",
            "Epoch 213/300\n",
            "2/2 [==============================] - 0s 49ms/step - loss: 1.1141 - accuracy: 0.8040 - val_loss: 0.1960 - val_accuracy: 0.9556\n",
            "Epoch 214/300\n",
            "2/2 [==============================] - 0s 67ms/step - loss: 1.0993 - accuracy: 0.8050 - val_loss: 0.1981 - val_accuracy: 0.9556\n",
            "Epoch 215/300\n",
            "2/2 [==============================] - 0s 48ms/step - loss: 1.0846 - accuracy: 0.8074 - val_loss: 0.1985 - val_accuracy: 0.9556\n",
            "Epoch 216/300\n",
            "2/2 [==============================] - 0s 44ms/step - loss: 1.0700 - accuracy: 0.8088 - val_loss: 0.1986 - val_accuracy: 0.9556\n",
            "Epoch 217/300\n",
            "2/2 [==============================] - 0s 54ms/step - loss: 1.0561 - accuracy: 0.8108 - val_loss: 0.1971 - val_accuracy: 0.9556\n",
            "Epoch 218/300\n",
            "2/2 [==============================] - 0s 60ms/step - loss: 1.0424 - accuracy: 0.8127 - val_loss: 0.1965 - val_accuracy: 0.9556\n",
            "Epoch 219/300\n",
            "2/2 [==============================] - 0s 45ms/step - loss: 1.0284 - accuracy: 0.8156 - val_loss: 0.1959 - val_accuracy: 0.9556\n",
            "Epoch 220/300\n",
            "2/2 [==============================] - 0s 60ms/step - loss: 1.0154 - accuracy: 0.8175 - val_loss: 0.1951 - val_accuracy: 0.9556\n",
            "Epoch 221/300\n",
            "2/2 [==============================] - 0s 46ms/step - loss: 1.0022 - accuracy: 0.8189 - val_loss: 0.1945 - val_accuracy: 0.9556\n",
            "Epoch 222/300\n",
            "2/2 [==============================] - 0s 44ms/step - loss: 0.9896 - accuracy: 0.8199 - val_loss: 0.1934 - val_accuracy: 0.9556\n",
            "Epoch 223/300\n",
            "2/2 [==============================] - 0s 46ms/step - loss: 0.9774 - accuracy: 0.8204 - val_loss: 0.1940 - val_accuracy: 0.9556\n",
            "Epoch 224/300\n",
            "2/2 [==============================] - 0s 43ms/step - loss: 0.9646 - accuracy: 0.8204 - val_loss: 0.1944 - val_accuracy: 0.9556\n",
            "Epoch 225/300\n",
            "2/2 [==============================] - 0s 47ms/step - loss: 0.9526 - accuracy: 0.8204 - val_loss: 0.1950 - val_accuracy: 0.9556\n",
            "Epoch 226/300\n",
            "2/2 [==============================] - 0s 63ms/step - loss: 0.9407 - accuracy: 0.8218 - val_loss: 0.1968 - val_accuracy: 0.9556\n",
            "Epoch 227/300\n",
            "2/2 [==============================] - 0s 46ms/step - loss: 0.9293 - accuracy: 0.8228 - val_loss: 0.1973 - val_accuracy: 0.9556\n",
            "Epoch 228/300\n",
            "2/2 [==============================] - 0s 57ms/step - loss: 0.9178 - accuracy: 0.8232 - val_loss: 0.1974 - val_accuracy: 0.9556\n",
            "Epoch 229/300\n",
            "2/2 [==============================] - 0s 61ms/step - loss: 0.9068 - accuracy: 0.8256 - val_loss: 0.1991 - val_accuracy: 0.9556\n",
            "Epoch 230/300\n",
            "2/2 [==============================] - 0s 45ms/step - loss: 0.8956 - accuracy: 0.8271 - val_loss: 0.2001 - val_accuracy: 0.9556\n",
            "Epoch 231/300\n",
            "2/2 [==============================] - 0s 49ms/step - loss: 0.8844 - accuracy: 0.8280 - val_loss: 0.1990 - val_accuracy: 0.9556\n",
            "Epoch 232/300\n",
            "2/2 [==============================] - 0s 45ms/step - loss: 0.8740 - accuracy: 0.8290 - val_loss: 0.2000 - val_accuracy: 0.9556\n",
            "Epoch 233/300\n",
            "2/2 [==============================] - 0s 62ms/step - loss: 0.8633 - accuracy: 0.8295 - val_loss: 0.2004 - val_accuracy: 0.9556\n",
            "Epoch 234/300\n",
            "2/2 [==============================] - 0s 44ms/step - loss: 0.8532 - accuracy: 0.8295 - val_loss: 0.2001 - val_accuracy: 0.9556\n",
            "Epoch 235/300\n",
            "2/2 [==============================] - 0s 46ms/step - loss: 0.8430 - accuracy: 0.8319 - val_loss: 0.2017 - val_accuracy: 0.9556\n",
            "Epoch 236/300\n",
            "2/2 [==============================] - 0s 43ms/step - loss: 0.8329 - accuracy: 0.8319 - val_loss: 0.2025 - val_accuracy: 0.9556\n",
            "Epoch 237/300\n",
            "2/2 [==============================] - 0s 52ms/step - loss: 0.8227 - accuracy: 0.8329 - val_loss: 0.2038 - val_accuracy: 0.9556\n",
            "Epoch 238/300\n",
            "2/2 [==============================] - 0s 59ms/step - loss: 0.8129 - accuracy: 0.8343 - val_loss: 0.2035 - val_accuracy: 0.9556\n",
            "Epoch 239/300\n",
            "2/2 [==============================] - 0s 46ms/step - loss: 0.8035 - accuracy: 0.8357 - val_loss: 0.2035 - val_accuracy: 0.9556\n",
            "Epoch 240/300\n",
            "2/2 [==============================] - 0s 64ms/step - loss: 0.7943 - accuracy: 0.8362 - val_loss: 0.2033 - val_accuracy: 0.9556\n",
            "Epoch 241/300\n",
            "2/2 [==============================] - 0s 45ms/step - loss: 0.7849 - accuracy: 0.8367 - val_loss: 0.2026 - val_accuracy: 0.9556\n",
            "Epoch 242/300\n",
            "2/2 [==============================] - 0s 61ms/step - loss: 0.7757 - accuracy: 0.8377 - val_loss: 0.2019 - val_accuracy: 0.9556\n",
            "Epoch 243/300\n",
            "2/2 [==============================] - 0s 62ms/step - loss: 0.7665 - accuracy: 0.8381 - val_loss: 0.2023 - val_accuracy: 0.9556\n",
            "Epoch 244/300\n",
            "2/2 [==============================] - 0s 44ms/step - loss: 0.7577 - accuracy: 0.8401 - val_loss: 0.2022 - val_accuracy: 0.9556\n",
            "Epoch 245/300\n",
            "2/2 [==============================] - 0s 48ms/step - loss: 0.7491 - accuracy: 0.8410 - val_loss: 0.2043 - val_accuracy: 0.9556\n",
            "Epoch 246/300\n",
            "2/2 [==============================] - 0s 45ms/step - loss: 0.7406 - accuracy: 0.8425 - val_loss: 0.2066 - val_accuracy: 0.9556\n",
            "Epoch 247/300\n",
            "2/2 [==============================] - 0s 46ms/step - loss: 0.7321 - accuracy: 0.8449 - val_loss: 0.2066 - val_accuracy: 0.9556\n",
            "Epoch 248/300\n",
            "2/2 [==============================] - 0s 45ms/step - loss: 0.7237 - accuracy: 0.8453 - val_loss: 0.2072 - val_accuracy: 0.9556\n",
            "Epoch 249/300\n",
            "2/2 [==============================] - 0s 50ms/step - loss: 0.7155 - accuracy: 0.8458 - val_loss: 0.2076 - val_accuracy: 0.9556\n",
            "Epoch 250/300\n",
            "2/2 [==============================] - 0s 58ms/step - loss: 0.7075 - accuracy: 0.8487 - val_loss: 0.2086 - val_accuracy: 0.9556\n",
            "Epoch 251/300\n",
            "2/2 [==============================] - 0s 44ms/step - loss: 0.6995 - accuracy: 0.8492 - val_loss: 0.2086 - val_accuracy: 0.9556\n",
            "Epoch 252/300\n",
            "2/2 [==============================] - 0s 45ms/step - loss: 0.6917 - accuracy: 0.8497 - val_loss: 0.2087 - val_accuracy: 0.9556\n",
            "Epoch 253/300\n",
            "2/2 [==============================] - 0s 45ms/step - loss: 0.6839 - accuracy: 0.8506 - val_loss: 0.2082 - val_accuracy: 0.9556\n",
            "Epoch 254/300\n",
            "2/2 [==============================] - 0s 45ms/step - loss: 0.6765 - accuracy: 0.8530 - val_loss: 0.2070 - val_accuracy: 0.9556\n",
            "Epoch 255/300\n",
            "2/2 [==============================] - 0s 62ms/step - loss: 0.6690 - accuracy: 0.8545 - val_loss: 0.2061 - val_accuracy: 0.9556\n",
            "Epoch 256/300\n",
            "2/2 [==============================] - 0s 72ms/step - loss: 0.6616 - accuracy: 0.8549 - val_loss: 0.2070 - val_accuracy: 0.9556\n",
            "Epoch 257/300\n",
            "2/2 [==============================] - 0s 49ms/step - loss: 0.6544 - accuracy: 0.8559 - val_loss: 0.2074 - val_accuracy: 0.9556\n",
            "Epoch 258/300\n",
            "2/2 [==============================] - 0s 46ms/step - loss: 0.6474 - accuracy: 0.8569 - val_loss: 0.2089 - val_accuracy: 0.9556\n",
            "Epoch 259/300\n",
            "2/2 [==============================] - 0s 49ms/step - loss: 0.6405 - accuracy: 0.8583 - val_loss: 0.2094 - val_accuracy: 0.9556\n",
            "Epoch 260/300\n",
            "2/2 [==============================] - 0s 44ms/step - loss: 0.6335 - accuracy: 0.8602 - val_loss: 0.2105 - val_accuracy: 0.9556\n",
            "Epoch 261/300\n",
            "2/2 [==============================] - 0s 58ms/step - loss: 0.6267 - accuracy: 0.8612 - val_loss: 0.2127 - val_accuracy: 0.9556\n",
            "Epoch 262/300\n",
            "2/2 [==============================] - 0s 45ms/step - loss: 0.6201 - accuracy: 0.8612 - val_loss: 0.2147 - val_accuracy: 0.9556\n",
            "Epoch 263/300\n",
            "2/2 [==============================] - 0s 61ms/step - loss: 0.6133 - accuracy: 0.8622 - val_loss: 0.2137 - val_accuracy: 0.9556\n",
            "Epoch 264/300\n",
            "2/2 [==============================] - 0s 64ms/step - loss: 0.6068 - accuracy: 0.8626 - val_loss: 0.2124 - val_accuracy: 0.9556\n",
            "Epoch 265/300\n",
            "2/2 [==============================] - 0s 46ms/step - loss: 0.6004 - accuracy: 0.8641 - val_loss: 0.2101 - val_accuracy: 0.9556\n",
            "Epoch 266/300\n",
            "2/2 [==============================] - 0s 48ms/step - loss: 0.5940 - accuracy: 0.8655 - val_loss: 0.2100 - val_accuracy: 0.9556\n",
            "Epoch 267/300\n",
            "2/2 [==============================] - 0s 46ms/step - loss: 0.5878 - accuracy: 0.8674 - val_loss: 0.2100 - val_accuracy: 0.9556\n",
            "Epoch 268/300\n",
            "2/2 [==============================] - 0s 43ms/step - loss: 0.5817 - accuracy: 0.8684 - val_loss: 0.2102 - val_accuracy: 0.9556\n",
            "Epoch 269/300\n",
            "2/2 [==============================] - 0s 46ms/step - loss: 0.5755 - accuracy: 0.8689 - val_loss: 0.2094 - val_accuracy: 0.9556\n",
            "Epoch 270/300\n",
            "2/2 [==============================] - 0s 61ms/step - loss: 0.5697 - accuracy: 0.8689 - val_loss: 0.2100 - val_accuracy: 0.9556\n",
            "Epoch 271/300\n",
            "2/2 [==============================] - 0s 55ms/step - loss: 0.5635 - accuracy: 0.8694 - val_loss: 0.2099 - val_accuracy: 0.9556\n",
            "Epoch 272/300\n",
            "2/2 [==============================] - 0s 64ms/step - loss: 0.5579 - accuracy: 0.8694 - val_loss: 0.2098 - val_accuracy: 0.9556\n",
            "Epoch 273/300\n",
            "2/2 [==============================] - 0s 60ms/step - loss: 0.5521 - accuracy: 0.8698 - val_loss: 0.2113 - val_accuracy: 0.9556\n",
            "Epoch 274/300\n",
            "2/2 [==============================] - 0s 44ms/step - loss: 0.5463 - accuracy: 0.8703 - val_loss: 0.2128 - val_accuracy: 0.9556\n",
            "Epoch 275/300\n",
            "2/2 [==============================] - 0s 50ms/step - loss: 0.5406 - accuracy: 0.8718 - val_loss: 0.2126 - val_accuracy: 0.9556\n",
            "Epoch 276/300\n",
            "2/2 [==============================] - 0s 60ms/step - loss: 0.5350 - accuracy: 0.8722 - val_loss: 0.2121 - val_accuracy: 0.9556\n",
            "Epoch 277/300\n",
            "2/2 [==============================] - 0s 63ms/step - loss: 0.5297 - accuracy: 0.8727 - val_loss: 0.2131 - val_accuracy: 0.9556\n",
            "Epoch 278/300\n",
            "2/2 [==============================] - 0s 45ms/step - loss: 0.5241 - accuracy: 0.8737 - val_loss: 0.2115 - val_accuracy: 0.9556\n",
            "Epoch 279/300\n",
            "2/2 [==============================] - 0s 62ms/step - loss: 0.5188 - accuracy: 0.8742 - val_loss: 0.2110 - val_accuracy: 0.9556\n",
            "Epoch 280/300\n",
            "2/2 [==============================] - 0s 57ms/step - loss: 0.5135 - accuracy: 0.8746 - val_loss: 0.2108 - val_accuracy: 0.9556\n",
            "Epoch 281/300\n",
            "2/2 [==============================] - 0s 45ms/step - loss: 0.5082 - accuracy: 0.8751 - val_loss: 0.2096 - val_accuracy: 0.9556\n",
            "Epoch 282/300\n",
            "2/2 [==============================] - 0s 43ms/step - loss: 0.5029 - accuracy: 0.8761 - val_loss: 0.2084 - val_accuracy: 0.9556\n",
            "Epoch 283/300\n",
            "2/2 [==============================] - 0s 62ms/step - loss: 0.4979 - accuracy: 0.8770 - val_loss: 0.2074 - val_accuracy: 0.9556\n",
            "Epoch 284/300\n",
            "2/2 [==============================] - 0s 43ms/step - loss: 0.4928 - accuracy: 0.8790 - val_loss: 0.2052 - val_accuracy: 0.9556\n",
            "Epoch 285/300\n",
            "2/2 [==============================] - 0s 76ms/step - loss: 0.4879 - accuracy: 0.8799 - val_loss: 0.2038 - val_accuracy: 0.9556\n",
            "Epoch 286/300\n",
            "2/2 [==============================] - 0s 46ms/step - loss: 0.4828 - accuracy: 0.8799 - val_loss: 0.2027 - val_accuracy: 0.9556\n",
            "Epoch 287/300\n",
            "2/2 [==============================] - 0s 58ms/step - loss: 0.4780 - accuracy: 0.8804 - val_loss: 0.2020 - val_accuracy: 0.9556\n",
            "Epoch 288/300\n",
            "2/2 [==============================] - 0s 66ms/step - loss: 0.4730 - accuracy: 0.8814 - val_loss: 0.2020 - val_accuracy: 0.9556\n",
            "Epoch 289/300\n",
            "2/2 [==============================] - 0s 64ms/step - loss: 0.4686 - accuracy: 0.8823 - val_loss: 0.2041 - val_accuracy: 0.9556\n",
            "Epoch 290/300\n",
            "2/2 [==============================] - 0s 45ms/step - loss: 0.4637 - accuracy: 0.8823 - val_loss: 0.2047 - val_accuracy: 0.9556\n",
            "Epoch 291/300\n",
            "2/2 [==============================] - 0s 45ms/step - loss: 0.4590 - accuracy: 0.8847 - val_loss: 0.2050 - val_accuracy: 0.9556\n",
            "Epoch 292/300\n",
            "2/2 [==============================] - 0s 45ms/step - loss: 0.4546 - accuracy: 0.8852 - val_loss: 0.2048 - val_accuracy: 0.9556\n",
            "Epoch 293/300\n",
            "2/2 [==============================] - 0s 47ms/step - loss: 0.4501 - accuracy: 0.8852 - val_loss: 0.2040 - val_accuracy: 0.9556\n",
            "Epoch 294/300\n",
            "2/2 [==============================] - 0s 46ms/step - loss: 0.4456 - accuracy: 0.8866 - val_loss: 0.2021 - val_accuracy: 0.9556\n",
            "Epoch 295/300\n",
            "2/2 [==============================] - 0s 48ms/step - loss: 0.4413 - accuracy: 0.8876 - val_loss: 0.2011 - val_accuracy: 0.9556\n",
            "Epoch 296/300\n",
            "2/2 [==============================] - 0s 46ms/step - loss: 0.4370 - accuracy: 0.8881 - val_loss: 0.2001 - val_accuracy: 0.9556\n",
            "Epoch 297/300\n",
            "2/2 [==============================] - 0s 47ms/step - loss: 0.4327 - accuracy: 0.8886 - val_loss: 0.1988 - val_accuracy: 0.9556\n",
            "Epoch 298/300\n",
            "2/2 [==============================] - 0s 59ms/step - loss: 0.4285 - accuracy: 0.8890 - val_loss: 0.1986 - val_accuracy: 0.9556\n",
            "Epoch 299/300\n",
            "2/2 [==============================] - 0s 72ms/step - loss: 0.4244 - accuracy: 0.8905 - val_loss: 0.1989 - val_accuracy: 0.9556\n",
            "Epoch 300/300\n",
            "2/2 [==============================] - 0s 74ms/step - loss: 0.4203 - accuracy: 0.8900 - val_loss: 0.1985 - val_accuracy: 0.9556\n"
          ]
        }
      ]
    },
    {
      "cell_type": "markdown",
      "source": [
        "# **Checking the training and testing accuracies**"
      ],
      "metadata": {
        "id": "CZE_4Fdf3SE0"
      }
    },
    {
      "cell_type": "code",
      "source": [
        "import pandas as pd\n",
        "import matplotlib.pyplot as plt\n",
        "plt.rcParams[\"figure.figsize\"] = (10,10)\n",
        "plt.plot(hist.history['loss'],label =\"Train_loss\",linestyle='solid', linewidth = 2,marker='o', markersize=6)\n",
        "plt.plot(hist.history['val_loss'],label =\"Valid_loss\",linestyle='--', linewidth = 2,marker='x', markersize=6)\n",
        "plt.plot(hist.history['accuracy'],label =\"Train_loss\",linestyle='solid', linewidth = 2,marker='o', markersize=6)\n",
        "plt.plot(hist.history['val_accuracy'],label =\"Valid_loss\",linestyle='--', linewidth = 2,marker='x', markersize=6)\n",
        "plt.gca().set_xlim(0, 300)\n",
        "plt.gca().set_ylim(0, 2) # set the vertical range to [0-1]\n",
        "plt.xlabel('number of epochs', fontsize=14)\n",
        "plt.ylabel('loss', fontsize=14)\n",
        "plt.title('Cyber Attack detection using Neural Network',fontsize=16)\n",
        "plt.legend()\n",
        "plt.grid(True)"
      ],
      "metadata": {
        "colab": {
          "base_uri": "https://localhost:8080/",
          "height": 879
        },
        "id": "WqTeZkxpypeI",
        "outputId": "aa7b4a27-5de0-42e9-a877-acd0ba46a82d"
      },
      "execution_count": 20,
      "outputs": [
        {
          "output_type": "display_data",
          "data": {
            "text/plain": [
              "<Figure size 1000x1000 with 1 Axes>"
            ],
            "image/png": "[encoded data removed]"
          },
          "metadata": {}
        }
      ]
    },
    {
      "cell_type": "code",
      "source": [
        "# Evaluating the model on the training and testing set\n",
        "score = model.evaluate(Combined_training, target_total_train, verbose=0)\n",
        "print(\"Training Accuracy: \", score[1])\n",
        "score = model.evaluate(Combined_testing, target_total_test, verbose=0)\n",
        "print(\"Testing Accuracy: \", score[1])"
      ],
      "metadata": {
        "colab": {
          "base_uri": "https://localhost:8080/"
        },
        "id": "2TdKv0vRywmY",
        "outputId": "897c31fb-e0c3-4d87-e20b-2f756333caae"
      },
      "execution_count": 21,
      "outputs": [
        {
          "output_type": "stream",
          "name": "stdout",
          "text": [
            "Training Accuracy:  0.8909702301025391\n",
            "Testing Accuracy:  0.9555555582046509\n"
          ]
        }
      ]
    }
  ]
}
